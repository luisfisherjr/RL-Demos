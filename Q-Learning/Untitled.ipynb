{
 "cells": [
  {
   "cell_type": "code",
   "execution_count": 2,
   "metadata": {
    "collapsed": true
   },
   "outputs": [],
   "source": [
    "import gym\n",
    "import numpy as np\n",
    "from gym import wrappers"
   ]
  },
  {
   "cell_type": "code",
   "execution_count": 3,
   "metadata": {},
   "outputs": [
    {
     "name": "stdout",
     "output_type": "stream",
     "text": [
      "\u001b[33mWARN: gym.spaces.Box autodetected dtype as <class 'numpy.float32'>. Please provide explicit dtype.\u001b[0m\n",
      "best length is 9.69\n",
      "best length is 134.15\n",
      "best length is 170.2\n",
      "best length is 200.0\n",
      "best length is 200.0\n",
      "best length is 200.0\n",
      "best length is 200.0\n",
      "best length is 200.0\n",
      "best length is 200.0\n",
      "best length is 200.0\n",
      "with best weights, game lasted: 83 moves \n"
     ]
    }
   ],
   "source": [
    "env = gym.make('CartPole-v0')\n",
    "\n",
    "best_length = 0\n",
    "episode_lengths = []\n",
    "best_wieghts = np.zeros(4)\n",
    "\n",
    "for i in range(100):\n",
    "    new_weights = np.random.uniform(-1.0, 1.0, 4)\n",
    "    \n",
    "    length = []\n",
    "    \n",
    "    for j in range(100):\n",
    "        \n",
    "        observation = env.reset()\n",
    "        done = False\n",
    "        count = 0\n",
    "        \n",
    "        while not done:\n",
    "            count += 1\n",
    "            \n",
    "            action = 1 if np.dot(observation, new_weights) > 0 else 0 # random action\n",
    "            observation, reward, done, debug = env.step(action) # take action\n",
    "            \n",
    "            if done:\n",
    "                break\n",
    "            \n",
    "        length.append(count)\n",
    "    average_length = np.mean(length)\n",
    "    \n",
    "    if average_length > best_length:\n",
    "        best_length = average_length\n",
    "        best_wieghts = new_weights\n",
    "        \n",
    "    episode_lengths.append(average_length)\n",
    "    if i % 10 == 0:\n",
    "        print('best length is {}'.format(best_length))\n",
    "        \n",
    "done = False\n",
    "count = 0\n",
    "env = wrappers.Monitor(env, 'MovieFiles2', force=True)\n",
    "observation = env.reset()\n",
    "\n",
    "while not done:\n",
    "    \n",
    "    count += 1\n",
    "    \n",
    "    action = 1 if np.dot(observation, new_weights) > 0 else 0 # random action\n",
    "    observation, reward, done, debug = env.step(action) # take action\n",
    "    \n",
    "    if done:\n",
    "        break\n",
    "        \n",
    "print('with best weights, game lasted: {} moves '.format(count))"
   ]
  }
 ],
 "metadata": {
  "kernelspec": {
   "display_name": "Python [conda env:tf-source-keras-gym]",
   "language": "python",
   "name": "conda-env-tf-source-keras-gym-py"
  },
  "language_info": {
   "codemirror_mode": {
    "name": "ipython",
    "version": 3
   },
   "file_extension": ".py",
   "mimetype": "text/x-python",
   "name": "python",
   "nbconvert_exporter": "python",
   "pygments_lexer": "ipython3",
   "version": "3.6.4"
  }
 },
 "nbformat": 4,
 "nbformat_minor": 2
}
