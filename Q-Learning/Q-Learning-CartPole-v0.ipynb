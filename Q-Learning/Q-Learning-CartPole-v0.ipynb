{
 "cells": [
  {
   "cell_type": "code",
   "execution_count": 1,
   "metadata": {},
   "outputs": [
    {
     "name": "stdout",
     "output_type": "stream",
     "text": [
      "\u001b[33mWARN: gym.spaces.Box autodetected dtype as <class 'numpy.float32'>. Please provide explicit dtype.\u001b[0m\n"
     ]
    }
   ],
   "source": [
    "import gym\n",
    "from gym import wrappers\n",
    "import numpy as np\n",
    "import matplotlib.pyplot as plt\n",
    "import operator\n",
    "\n",
    "env = gym.make('CartPole-v0')\n",
    "\n",
    "MAXSTATES = 10**4\n",
    "GAMMA = 0.9\n",
    "ALPHA = 0.01\n",
    "COUNTLIMIT = 200"
   ]
  },
  {
   "cell_type": "code",
   "execution_count": null,
   "metadata": {
    "collapsed": true
   },
   "outputs": [],
   "source": [
    "def max_dict(d):\n",
    "    \n",
    "    max_key, max_v = max(d.items(), key = operator.itemgetter(1))\n",
    "    \n",
    "    return max_key, max_v"
   ]
  },
  {
   "cell_type": "code",
   "execution_count": null,
   "metadata": {
    "collapsed": true
   },
   "outputs": [],
   "source": [
    "def create_bins():\n",
    "    # obs[0] -> cart position --- -4.8 - 4.8\n",
    "    # obs[1] -> cart velocity --- -inf - inf\n",
    "    # obs[2] -> pole angle    --- -41.8 - 41.8\n",
    "    # obs[3] -> pole velocity --- -inf - inf\n",
    "    \n",
    "    bins = np.zeros((4,10))\n",
    "    bins[0] = np.linspace(-4.8, 4.8, 10)\n",
    "    bins[1] = np.linspace(-5, 5, 10)\n",
    "    bins[2] = np.linspace(-.418, .418, 10)\n",
    "    bins[3] = np.linspace(-5, 5, 10)\n",
    "    \n",
    "    return bins"
   ]
  },
  {
   "cell_type": "code",
   "execution_count": null,
   "metadata": {
    "collapsed": true
   },
   "outputs": [],
   "source": [
    "def assign_bins(observation, bins):\n",
    "    \n",
    "    state = np.zeros(4)\n",
    "    \n",
    "    for i in range(4):\n",
    "        state[i] = np.digitize(observation[i], bins[i])\n",
    "        \n",
    "    return state;"
   ]
  },
  {
   "cell_type": "code",
   "execution_count": null,
   "metadata": {
    "collapsed": true
   },
   "outputs": [],
   "source": [
    "def get_state_as_string(state):\n",
    "    \n",
    "    string_state = ''.join(str(int(e)) for e in state)\n",
    "    \n",
    "    return string_state\n",
    "    \n",
    "#     return '{}'.format(state)"
   ]
  },
  {
   "cell_type": "code",
   "execution_count": null,
   "metadata": {
    "collapsed": true
   },
   "outputs": [],
   "source": [
    "def get_all_states_as_string():\n",
    "    \n",
    "    states = []\n",
    "    \n",
    "    for i in range(MAXSTATES):\n",
    "        \n",
    "        states.append(str(i).zfill(4))\n",
    "        \n",
    "    return states"
   ]
  },
  {
   "cell_type": "code",
   "execution_count": null,
   "metadata": {
    "collapsed": true
   },
   "outputs": [],
   "source": [
    "def intialize_Q():\n",
    "    \n",
    "    Q = {}\n",
    "    \n",
    "    all_states = get_all_states_as_string()\n",
    "    \n",
    "    for state in all_states:\n",
    "        \n",
    "        Q[state] = {}\n",
    "        \n",
    "        for action in range(env.action_space.n):\n",
    "            Q[state][action] = 0\n",
    "            \n",
    "    return Q"
   ]
  },
  {
   "cell_type": "code",
   "execution_count": null,
   "metadata": {
    "collapsed": true
   },
   "outputs": [],
   "source": [
    "def play_one_game(env, bins, Q, eps=0.5):\n",
    "    \n",
    "    observation = env.reset()\n",
    "    done = False\n",
    "    count = 0\n",
    "   \n",
    "    state = get_state_as_string(assign_bins(observation, bins))\n",
    "    total_reward = 0\n",
    "    \n",
    "    while not done:\n",
    "        \n",
    "        count += 1\n",
    "        \n",
    "        if np.random.uniform() < eps:\n",
    "            action = env.action_space.sample()\n",
    "        else:\n",
    "            action = max_dict(Q[state])[0]\n",
    "            \n",
    "        observation, reward, done, info = env.step(action)\n",
    "        \n",
    "        total_reward += reward\n",
    "        \n",
    "        if done and count < COUNTLIMIT:\n",
    "            reward = -300\n",
    "            \n",
    "        state_new = get_state_as_string(assign_bins(observation, bins))\n",
    "        \n",
    "        a1, max_q_s1a1 = max_dict(Q[state_new])\n",
    "        \n",
    "        Q[state][action] += ALPHA * (reward + GAMMA * max_q_s1a1 - Q[state][action])\n",
    "        \n",
    "        state, action = state_new, a1\n",
    "        \n",
    "    return total_reward, count   "
   ]
  },
  {
   "cell_type": "code",
   "execution_count": null,
   "metadata": {
    "collapsed": true
   },
   "outputs": [],
   "source": [
    "def play_many_games(bins, N=10000):\n",
    "    \n",
    "    Q = intialize_Q()\n",
    "    \n",
    "    length = []\n",
    "    reward = []\n",
    "    \n",
    "    for n in range(N):\n",
    "        \n",
    "        eps = 1.0 / np.sqrt(n + 1) # take random action less over time\n",
    "        \n",
    "        record = n == N - 1\n",
    "        \n",
    "        episode_reward, episode_length = play_one_game(env, bins, Q, eps)\n",
    "        \n",
    "        if n % 100 == 0:\n",
    "            print(n, '%.4f' % eps, episode_reward)\n",
    "            \n",
    "        length.append(episode_length)\n",
    "        reward.append(episode_reward)\n",
    "        \n",
    "    env1 = wrappers.Monitor(env, 'MovieFiles', force=True)\n",
    "    observation = env1.reset()\n",
    "    play_one_game(env1, bins, Q, eps)\n",
    "        \n",
    "    return length, reward"
   ]
  },
  {
   "cell_type": "code",
   "execution_count": null,
   "metadata": {
    "collapsed": true
   },
   "outputs": [],
   "source": [
    "def plot_running_avg(total_rewards, run_size):\n",
    "    \n",
    "    N = len(total_rewards)\n",
    "    \n",
    "    running_avg = np.empty(N)\n",
    "    \n",
    "    for t in range(N):\n",
    "        \n",
    "        running_avg[t] = np.mean(total_rewards[max(0,t-run_size) : (t+1)])\n",
    "        \n",
    "    plt.plot(running_avg)\n",
    "    plt.title('Running Average')\n",
    "    plt.show()"
   ]
  },
  {
   "cell_type": "code",
   "execution_count": null,
   "metadata": {
    "collapsed": true,
    "scrolled": false
   },
   "outputs": [],
   "source": [
    "# if __name__ == '__main__':\n",
    "\n",
    "bins = create_bins()\n",
    "episode_lengths, episode_rewards = play_many_games(bins)\n",
    "\n",
    "plot_running_avg(episode_rewards, 100)"
   ]
  }
 ],
 "metadata": {
  "kernelspec": {
   "display_name": "Python [conda env:tf-source-keras-gym]",
   "language": "python",
   "name": "conda-env-tf-source-keras-gym-py"
  },
  "language_info": {
   "codemirror_mode": {
    "name": "ipython",
    "version": 3
   },
   "file_extension": ".py",
   "mimetype": "text/x-python",
   "name": "python",
   "nbconvert_exporter": "python",
   "pygments_lexer": "ipython3",
   "version": "3.6.4"
  }
 },
 "nbformat": 4,
 "nbformat_minor": 2
}
