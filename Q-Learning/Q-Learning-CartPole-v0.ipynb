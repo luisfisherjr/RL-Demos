{
 "cells": [
  {
   "cell_type": "code",
   "execution_count": 6,
   "metadata": {},
   "outputs": [],
   "source": [
    "import gym\n",
    "from gym import wrappers\n",
    "import numpy as np\n",
    "import matplotlib.pyplot as plt\n",
    "import operator\n",
    "\n",
    "# env = gym.make('CartPole-v0')\n",
    "# env = gym.make(\"Taxi-v2\")\n",
    "\n",
    "MAXSTATES = 10**4\n",
    "GAMMA = 0.9\n",
    "ALPHA = 0.01\n",
    "COUNTLIMIT = 200"
   ]
  },
  {
   "cell_type": "markdown",
   "metadata": {},
   "source": [
    "### THis is a header"
   ]
  },
  {
   "cell_type": "code",
   "execution_count": 10,
   "metadata": {},
   "outputs": [
    {
     "data": {
      "text/plain": [
       "(Discrete(500), Discrete(6))"
      ]
     },
     "execution_count": 10,
     "metadata": {},
     "output_type": "execute_result"
    }
   ],
   "source": [
    "env.observation_space, env.action_space"
   ]
  },
  {
   "cell_type": "code",
   "execution_count": 5,
   "metadata": {},
   "outputs": [
    {
     "data": {
      "text/plain": [
       "<bound method Box.to_jsonable of Box(4,)>"
      ]
     },
     "execution_count": 5,
     "metadata": {},
     "output_type": "execute_result"
    }
   ],
   "source": [
    "env.observation_space."
   ]
  },
  {
   "cell_type": "code",
   "execution_count": 2,
   "metadata": {
    "collapsed": true
   },
   "outputs": [],
   "source": [
    "def max_dict(d):\n",
    "    \n",
    "    max_key, max_v = max(d.items(), key = operator.itemgetter(1))\n",
    "    \n",
    "    return max_key, max_v"
   ]
  },
  {
   "cell_type": "code",
   "execution_count": 3,
   "metadata": {
    "collapsed": true
   },
   "outputs": [],
   "source": [
    "def create_bins():\n",
    "    # obs[0] -> cart position --- -4.8 - 4.8\n",
    "    # obs[1] -> cart velocity --- -inf - inf\n",
    "    # obs[2] -> pole angle    --- -41.8 - 41.8\n",
    "    # obs[3] -> pole velocity --- -inf - inf\n",
    "    \n",
    "    bins = np.zeros((4,10))\n",
    "    bins[0] = np.linspace(-4.8, 4.8, 10)\n",
    "    bins[1] = np.linspace(-5, 5, 10)\n",
    "    bins[2] = np.linspace(-.418, .418, 10)\n",
    "    bins[3] = np.linspace(-5, 5, 10)\n",
    "    \n",
    "    return bins"
   ]
  },
  {
   "cell_type": "code",
   "execution_count": 4,
   "metadata": {
    "collapsed": true
   },
   "outputs": [],
   "source": [
    "def assign_bins(observation, bins):\n",
    "    \n",
    "    state = np.zeros(4)\n",
    "    \n",
    "    for i in range(4):\n",
    "        state[i] = np.digitize(observation[i], bins[i])\n",
    "        \n",
    "    return state;"
   ]
  },
  {
   "cell_type": "code",
   "execution_count": 5,
   "metadata": {
    "collapsed": true
   },
   "outputs": [],
   "source": [
    "def get_state_as_string(state):\n",
    "    \n",
    "    string_state = ''.join(str(int(e)) for e in state)\n",
    "    \n",
    "    return string_state\n",
    "    \n",
    "#     return '{}'.format(state)"
   ]
  },
  {
   "cell_type": "code",
   "execution_count": 6,
   "metadata": {
    "collapsed": true
   },
   "outputs": [],
   "source": [
    "def get_all_states_as_string():\n",
    "    \n",
    "    states = []\n",
    "    \n",
    "    for i in range(MAXSTATES):\n",
    "        \n",
    "        states.append(str(i).zfill(4))\n",
    "        \n",
    "    return states"
   ]
  },
  {
   "cell_type": "code",
   "execution_count": 7,
   "metadata": {
    "collapsed": true
   },
   "outputs": [],
   "source": [
    "def intialize_Q():\n",
    "    \n",
    "    Q = {}\n",
    "    \n",
    "    all_states = get_all_states_as_string()\n",
    "    \n",
    "    for state in all_states:\n",
    "        \n",
    "        Q[state] = {}\n",
    "        \n",
    "        for action in range(env.action_space.n):\n",
    "            Q[state][action] = 0\n",
    "            \n",
    "    return Q"
   ]
  },
  {
   "cell_type": "code",
   "execution_count": 8,
   "metadata": {
    "collapsed": true
   },
   "outputs": [],
   "source": [
    "def play_one_game(env, bins, Q, eps=0.5):\n",
    "    \n",
    "    observation = env.reset()\n",
    "    done = False\n",
    "    count = 0\n",
    "   \n",
    "    state = get_state_as_string(assign_bins(observation, bins))\n",
    "    total_reward = 0\n",
    "    \n",
    "    while not done:\n",
    "        \n",
    "        count += 1\n",
    "        \n",
    "        if np.random.uniform() < eps:\n",
    "            action = env.action_space.sample()\n",
    "        else:\n",
    "            action = max_dict(Q[state])[0]\n",
    "            \n",
    "        observation, reward, done, info = env.step(action)\n",
    "        \n",
    "        total_reward += reward\n",
    "        \n",
    "        if done and count < COUNTLIMIT:\n",
    "            reward = -300\n",
    "            \n",
    "        state_new = get_state_as_string(assign_bins(observation, bins))\n",
    "        \n",
    "        a1, max_q_s1a1 = max_dict(Q[state_new])\n",
    "        \n",
    "        Q[state][action] += ALPHA * (reward + GAMMA * max_q_s1a1 - Q[state][action])\n",
    "        \n",
    "        state, action = state_new, a1\n",
    "        \n",
    "    return total_reward, count   "
   ]
  },
  {
   "cell_type": "code",
   "execution_count": 9,
   "metadata": {
    "collapsed": true
   },
   "outputs": [],
   "source": [
    "def play_many_games(bins, N=10000):\n",
    "    \n",
    "    Q = intialize_Q()\n",
    "    \n",
    "    length = []\n",
    "    reward = []\n",
    "    \n",
    "    for n in range(N):\n",
    "        \n",
    "        eps = 1.0 / np.sqrt(n + 1) # take random action less over time\n",
    "        \n",
    "        record = n == N - 1\n",
    "        \n",
    "        episode_reward, episode_length = play_one_game(env, bins, Q, eps)\n",
    "        \n",
    "        if n % 100 == 0:\n",
    "            print(n, '%.4f' % eps, episode_reward)\n",
    "            \n",
    "        length.append(episode_length)\n",
    "        reward.append(episode_reward)\n",
    "        \n",
    "    env1 = wrappers.Monitor(env, 'MovieFiles', force=True)\n",
    "    observation = env1.reset()\n",
    "    play_one_game(env1, bins, Q, eps)\n",
    "        \n",
    "    return length, reward"
   ]
  },
  {
   "cell_type": "code",
   "execution_count": 10,
   "metadata": {
    "collapsed": true
   },
   "outputs": [],
   "source": [
    "def plot_running_avg(total_rewards, run_size):\n",
    "    \n",
    "    N = len(total_rewards)\n",
    "    \n",
    "    running_avg = np.empty(N)\n",
    "    \n",
    "    for t in range(N):\n",
    "        \n",
    "        running_avg[t] = np.mean(total_rewards[max(0,t-run_size) : (t+1)])\n",
    "        \n",
    "    plt.plot(running_avg)\n",
    "    plt.title('Running Average')\n",
    "    plt.show()"
   ]
  },
  {
   "cell_type": "code",
   "execution_count": 11,
   "metadata": {
    "scrolled": false
   },
   "outputs": [
    {
     "name": "stdout",
     "output_type": "stream",
     "text": [
      "0 1.0000 12.0\n",
      "100 0.0995 27.0\n",
      "200 0.0705 120.0\n",
      "300 0.0576 155.0\n",
      "400 0.0499 194.0\n",
      "500 0.0447 121.0\n",
      "600 0.0408 146.0\n",
      "700 0.0378 126.0\n",
      "800 0.0353 152.0\n",
      "900 0.0333 154.0\n",
      "1000 0.0316 200.0\n",
      "1100 0.0301 153.0\n",
      "1200 0.0289 184.0\n",
      "1300 0.0277 200.0\n",
      "1400 0.0267 200.0\n",
      "1500 0.0258 170.0\n",
      "1600 0.0250 174.0\n",
      "1700 0.0242 176.0\n",
      "1800 0.0236 200.0\n",
      "1900 0.0229 151.0\n",
      "2000 0.0224 200.0\n",
      "2100 0.0218 189.0\n",
      "2200 0.0213 152.0\n",
      "2300 0.0208 200.0\n",
      "2400 0.0204 149.0\n",
      "2500 0.0200 147.0\n",
      "2600 0.0196 128.0\n",
      "2700 0.0192 144.0\n",
      "2800 0.0189 136.0\n",
      "2900 0.0186 173.0\n",
      "3000 0.0183 142.0\n",
      "3100 0.0180 48.0\n",
      "3200 0.0177 144.0\n",
      "3300 0.0174 138.0\n",
      "3400 0.0171 200.0\n",
      "3500 0.0169 156.0\n",
      "3600 0.0167 156.0\n",
      "3700 0.0164 144.0\n",
      "3800 0.0162 167.0\n",
      "3900 0.0160 185.0\n",
      "4000 0.0158 200.0\n",
      "4100 0.0156 190.0\n",
      "4200 0.0154 65.0\n",
      "4300 0.0152 160.0\n",
      "4400 0.0151 178.0\n",
      "4500 0.0149 177.0\n",
      "4600 0.0147 188.0\n",
      "4700 0.0146 174.0\n",
      "4800 0.0144 138.0\n",
      "4900 0.0143 200.0\n",
      "5000 0.0141 186.0\n",
      "5100 0.0140 200.0\n",
      "5200 0.0139 200.0\n",
      "5300 0.0137 200.0\n",
      "5400 0.0136 200.0\n",
      "5500 0.0135 200.0\n",
      "5600 0.0134 200.0\n",
      "5700 0.0132 200.0\n",
      "5800 0.0131 200.0\n",
      "5900 0.0130 200.0\n",
      "6000 0.0129 200.0\n",
      "6100 0.0128 200.0\n",
      "6200 0.0127 200.0\n",
      "6300 0.0126 200.0\n",
      "6400 0.0125 200.0\n",
      "6500 0.0124 200.0\n",
      "6600 0.0123 200.0\n",
      "6700 0.0122 200.0\n",
      "6800 0.0121 200.0\n",
      "6900 0.0120 200.0\n",
      "7000 0.0120 200.0\n",
      "7100 0.0119 200.0\n",
      "7200 0.0118 200.0\n",
      "7300 0.0117 199.0\n",
      "7400 0.0116 200.0\n",
      "7500 0.0115 200.0\n",
      "7600 0.0115 200.0\n",
      "7700 0.0114 200.0\n",
      "7800 0.0113 200.0\n",
      "7900 0.0113 200.0\n",
      "8000 0.0112 200.0\n",
      "8100 0.0111 200.0\n",
      "8200 0.0110 200.0\n",
      "8300 0.0110 200.0\n",
      "8400 0.0109 200.0\n",
      "8500 0.0108 200.0\n",
      "8600 0.0108 200.0\n",
      "8700 0.0107 200.0\n",
      "8800 0.0107 200.0\n",
      "8900 0.0106 200.0\n",
      "9000 0.0105 200.0\n",
      "9100 0.0105 200.0\n",
      "9200 0.0104 200.0\n",
      "9300 0.0104 200.0\n",
      "9400 0.0103 200.0\n",
      "9500 0.0103 200.0\n",
      "9600 0.0102 200.0\n",
      "9700 0.0102 200.0\n",
      "9800 0.0101 200.0\n",
      "9900 0.0100 200.0\n"
     ]
    },
    {
     "data": {
      "image/png": "[encoded data removed]",
      "text/plain": [
       "<matplotlib.figure.Figure at 0x7f7ae05fde80>"
      ]
     },
     "metadata": {},
     "output_type": "display_data"
    }
   ],
   "source": [
    "# if __name__ == '__main__':\n",
    "\n",
    "bins = create_bins()\n",
    "episode_lengths, episode_rewards = play_many_games(bins)\n",
    "\n",
    "plot_running_avg(episode_rewards, 100)"
   ]
  }
 ],
 "metadata": {
  "kernelspec": {
   "display_name": "Python [conda env:tf-source-keras-gym]",
   "language": "python",
   "name": "conda-env-tf-source-keras-gym-py"
  },
  "language_info": {
   "codemirror_mode": {
    "name": "ipython",
    "version": 3
   },
   "file_extension": ".py",
   "mimetype": "text/x-python",
   "name": "python",
   "nbconvert_exporter": "python",
   "pygments_lexer": "ipython3",
   "version": "3.6.4"
  }
 },
 "nbformat": 4,
 "nbformat_minor": 2
}
