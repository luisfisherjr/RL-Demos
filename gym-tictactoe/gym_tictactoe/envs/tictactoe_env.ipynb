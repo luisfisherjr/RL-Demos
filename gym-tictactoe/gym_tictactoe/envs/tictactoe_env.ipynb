{
 "cells": [
  {
   "cell_type": "code",
   "execution_count": 7,
   "metadata": {
    "collapsed": true
   },
   "outputs": [],
   "source": [
    "import numpy as np\n",
    "import gym\n",
    "from gym import error, spaces, utils\n",
    "from gym.utils import seeding"
   ]
  },
  {
   "cell_type": "code",
   "execution_count": 63,
   "metadata": {},
   "outputs": [],
   "source": [
    "def victory_condition_eval(board):\n",
    "\n",
    "    uniques = []\n",
    "    uniques.append(np.unique(board[0])) # row 1\n",
    "    uniques.append(np.unique(board[1])) # row 2\n",
    "    uniques.append(np.unique(board[2])) # row 3\n",
    "    uniques.append(np.unique(board[:, 0:1])) # column 1\n",
    "    uniques.append(np.unique(board[:, 1:2])) # column 2\n",
    "    uniques.append(np.unique(board[:, 2:3])) # column 3\n",
    "    uniques.append(np.unique(board.diagonal())) # major diag\n",
    "    uniques.append(np.unique(np.rot90(board).diagonal())) # minor diag\n",
    "\n",
    "    for elements in uniques:\n",
    "\n",
    "        if len(elements) is 1: # if all elements are the same\n",
    "\n",
    "            if elements[0] is not 0: # if all elements are not 0\n",
    "                return elements[0]\n",
    "\n",
    "    return 0 # no winner"
   ]
  },
  {
   "cell_type": "code",
   "execution_count": 70,
   "metadata": {},
   "outputs": [],
   "source": [
    "class TicTacToeEnv(gym.Env):\n",
    "    \n",
    "    metadata = {'render.modes': ['human']}\n",
    "\n",
    "    def __init__(self):\n",
    "        self.action_space = spaces.Discrete(9) # 9 possible moves always including illegal moves\n",
    "        self.observation_space = spaces.Discrete(math.pow(3, 9)) # possible combinations is 3^9\n",
    "\n",
    "    def step(self, action):\n",
    "        \n",
    "        done = False # set default to not done\n",
    "        reward = 0 # set default to 0\n",
    "        \n",
    "        # actions are [0,1,2,3,4,5,6,7,8]\n",
    "        row, col = np.int8(action / 3), np.int8(action % 3) # get row and column of move\n",
    "        \n",
    "        board = self.state['board'] # get board\n",
    "        player = self.state['on_move'] # get player X = 1, O = -1\n",
    "        \n",
    "        if board[row][col] is not 0: # illegal move\n",
    "            done = True\n",
    "            reward = -1000\n",
    "            \n",
    "        else: # legal move\n",
    "            board[row][col] = player # place piece on board\n",
    "            winner = victory_condition_eval(board) # check for victory\n",
    "            if winner is not 0: # victory achieved if 1 or -1 achieved (self playing tictactoe)\n",
    "                done = True\n",
    "                reward = 1000\n",
    "            else:\n",
    "                self.state['on_move'] = -player # turns X to O and O to X\n",
    "\n",
    "    def reset(self):\n",
    "        self.state = {} # initalize state dictionary\n",
    "        self.state['board'] = np.zeros((3,3), dtype=np.int8) # 0 is empty spot\n",
    "        self.state['on_move'] = 1 # 1 is X -1 is O\n",
    "\n",
    "    def render(self, mode='human', close=False):\n",
    "        for row in self.state['board']: # for every row\n",
    "            print(row) # print array"
   ]
  }
 ],
 "metadata": {
  "kernelspec": {
   "display_name": "Python [conda env:tf-source-keras-gym]",
   "language": "python",
   "name": "conda-env-tf-source-keras-gym-py"
  },
  "language_info": {
   "codemirror_mode": {
    "name": "ipython",
    "version": 3
   },
   "file_extension": ".py",
   "mimetype": "text/x-python",
   "name": "python",
   "nbconvert_exporter": "python",
   "pygments_lexer": "ipython3",
   "version": "3.6.4"
  }
 },
 "nbformat": 4,
 "nbformat_minor": 2
}
