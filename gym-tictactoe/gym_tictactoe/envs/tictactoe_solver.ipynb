{
 "cells": [
  {
   "cell_type": "code",
   "execution_count": 1,
   "metadata": {
    "collapsed": true
   },
   "outputs": [],
   "source": [
    "import numpy as np\n",
    "import random"
   ]
  },
  {
   "cell_type": "code",
   "execution_count": 2,
   "metadata": {
    "collapsed": true
   },
   "outputs": [],
   "source": [
    "def get_empty_spaces(board):\n",
    "    \n",
    "    empty_spaces = []\n",
    "    flat = board.flatten()\n",
    "    for row in range(3):\n",
    "        for column in range(3):\n",
    "            if board[row][column] == ' ':\n",
    "                empty_spaces.append((row, column))\n",
    "            \n",
    "    return empty_spaces"
   ]
  },
  {
   "cell_type": "code",
   "execution_count": 3,
   "metadata": {
    "collapsed": true
   },
   "outputs": [],
   "source": [
    "def victory_move(board, possible_move):\n",
    "    \n",
    "    victors = []\n",
    "    \n",
    "    (row, col) = possible_move\n",
    "    \n",
    "    maj_diag = [(0,0), (1,1), (2,2)]\n",
    "    min_diag = [(0,2), (1,1), (2,0)]\n",
    "    \n",
    "    to_check = []\n",
    "    to_check.append(board[row].tolist())\n",
    "    to_check.append(board[:, col].tolist())\n",
    "    \n",
    "    if possible_move in maj_diag:\n",
    "        to_check.append(board.diagonal().tolist())\n",
    "      \n",
    "    if possible_move in min_diag:\n",
    "        to_check.append(np.rot90(board).diagonal().tolist()) # minor diag\n",
    "\n",
    "    for lists in to_check:\n",
    "        \n",
    "        if lists.count('X') is 2:\n",
    "            victors.append('X')  # winner possible from this move\n",
    "        if lists.count('O') is 2:\n",
    "            victors.append('O') # winner possible from this move\n",
    "    \n",
    "    return victors"
   ]
  },
  {
   "cell_type": "code",
   "execution_count": null,
   "metadata": {
    "collapsed": true
   },
   "outputs": [],
   "source": [
    "def tictactoe_solver(board, solver, mode = 'hard'):\n",
    "    \n",
    "    \"\"\"\n",
    "    board: 3x3 np.array of chars ' ', 'X', and 'O'\n",
    "    solver: 'X' or 'O'\n",
    "    mode: 'easy', 'medium', or 'hard'\n",
    "    \"\"\"\n",
    "    \n",
    "    opponent = 'X'\n",
    "    \n",
    "    if solver is 'X':\n",
    "        opponent = 'O'\n",
    "\n",
    "    win_moves = {'X': [], 'O': []}\n",
    "    \n",
    "    possible_moves = get_empty_spaces(board)\n",
    "    \n",
    "    if mode == 'easy:\n",
    "        # pick random move\n",
    "        return random.choice(possible_moves)\n",
    "\n",
    "    for move in possible_moves:\n",
    "\n",
    "        winners = victory_move(board, move)\n",
    "        \n",
    "        if 'X' in winners:\n",
    "            win_moves['X'].append(move)\n",
    "\n",
    "        if 'O' in winners:\n",
    "            win_moves['O'].append(move)\n",
    "            \n",
    "    # try to win if possible\n",
    "    if win_moves[solver]:\n",
    "        return random.choice(win_moves[solver])\n",
    "    \n",
    "    if mode == 'hard:\n",
    "        # denny win if possible\n",
    "        if win_moves[opponent]:\n",
    "            return random.choice(win_moves[opponent])\n",
    "    \n",
    "    possible_moves_set = set(possible_moves) \n",
    "    corner_moves_set = {(0,0), (0,2), (2,0), (2,2)}\n",
    "    center_move = (1,1)\n",
    "    \n",
    "    # get center if its open\n",
    "    if center_move in possible_moves_set:\n",
    "        return center_move\n",
    "    \n",
    "    possible_corners = corner_moves_set & possible_moves_set\n",
    "    \n",
    "    # get a corner if any are open\n",
    "    if possible_corners:\n",
    "        return possible_corners.pop()\n",
    "    \n",
    "    # get any possible\n",
    "    return possible_moves_set.pop()"
   ]
  }
 ],
 "metadata": {
  "kernelspec": {
   "display_name": "Python [conda env:tf-source-keras-gym]",
   "language": "python",
   "name": "conda-env-tf-source-keras-gym-py"
  },
  "language_info": {
   "codemirror_mode": {
    "name": "ipython",
    "version": 3
   },
   "file_extension": ".py",
   "mimetype": "text/x-python",
   "name": "python",
   "nbconvert_exporter": "python",
   "pygments_lexer": "ipython3",
   "version": "3.6.4"
  }
 },
 "nbformat": 4,
 "nbformat_minor": 2
}
