{
 "cells": [
  {
   "cell_type": "code",
   "execution_count": 1,
   "metadata": {
    "collapsed": true
   },
   "outputs": [],
   "source": [
    "import gym\n",
    "import gym_tictactoe\n",
    "from gym import wrappers\n",
    "import numpy as np\n",
    "import matplotlib.pyplot as plt\n",
    "import operator\n",
    "import itertools\n",
    "import random"
   ]
  },
  {
   "cell_type": "code",
   "execution_count": 2,
   "metadata": {
    "collapsed": true
   },
   "outputs": [],
   "source": [
    "GAMMA = 0.9\n",
    "ALPHA = 0.01\n",
    "COUNTLIMIT = 200"
   ]
  },
  {
   "cell_type": "code",
   "execution_count": 3,
   "metadata": {
    "collapsed": true
   },
   "outputs": [],
   "source": [
    "def max_dict(d):\n",
    "    \n",
    "    max_key, max_v = max(d.items(), key = operator.itemgetter(1))\n",
    "    \n",
    "    return max_key, max_v"
   ]
  },
  {
   "cell_type": "code",
   "execution_count": 4,
   "metadata": {
    "collapsed": true
   },
   "outputs": [],
   "source": [
    "def get_state_as_string(state):\n",
    "    \n",
    "    string_state = ''.join(state['board'].flatten()) \n",
    "    \n",
    "    return string_state"
   ]
  },
  {
   "cell_type": "code",
   "execution_count": 5,
   "metadata": {
    "collapsed": true
   },
   "outputs": [],
   "source": [
    "def get_all_states_as_string():\n",
    "    \n",
    "    block = [' ', 'X', 'O']\n",
    "    states = [''.join(i) for i in itertools.product(block, repeat = 9)]\n",
    "\n",
    "    return states"
   ]
  },
  {
   "cell_type": "code",
   "execution_count": 6,
   "metadata": {
    "collapsed": true
   },
   "outputs": [],
   "source": [
    "def intialize_Q(env):\n",
    "    \n",
    "    Q = {}\n",
    "    \n",
    "    all_states = get_all_states_as_string()\n",
    "    \n",
    "    for state in all_states:\n",
    "        \n",
    "        Q[state] = {}\n",
    "        \n",
    "        for action in range(env.action_space.n):\n",
    "            Q[state][action] = 0\n",
    "            \n",
    "    return Q"
   ]
  },
  {
   "cell_type": "code",
   "execution_count": 7,
   "metadata": {
    "collapsed": true
   },
   "outputs": [],
   "source": [
    "def play_one_game(env, Q, eps=0.5, render = False, learner = 'O'):\n",
    "    \n",
    "    observation = env.reset(player = learner)\n",
    "    done = False\n",
    "    \n",
    "    count = 0\n",
    "    total_reward = 0\n",
    "   \n",
    "    state = get_state_as_string(observation)\n",
    "    \n",
    "    while not done:\n",
    "        \n",
    "        count = count + 1\n",
    "        \n",
    "        if render:\n",
    "            env.render()\n",
    "            print()\n",
    "        \n",
    "        \n",
    "        if np.random.uniform() < eps:\n",
    "            action = env.action_space.sample()\n",
    "        else:\n",
    "            action = max_dict(Q[state])[0]\n",
    "\n",
    "        observation, reward, done, _ = env.step(action)\n",
    "\n",
    "        total_reward += reward\n",
    "\n",
    "        state_new = get_state_as_string(observation)\n",
    "\n",
    "        a1, max_q_s1a1 = max_dict(Q[state_new])\n",
    "\n",
    "        Q[state][action] += ALPHA * (reward + GAMMA * max_q_s1a1 - Q[state][action])\n",
    "\n",
    "        state, action = state_new, a1\n",
    "\n",
    "\n",
    "    if render:\n",
    "        env.render()\n",
    "            \n",
    "        \n",
    "    return total_reward, count "
   ]
  },
  {
   "cell_type": "code",
   "execution_count": 8,
   "metadata": {
    "collapsed": true
   },
   "outputs": [],
   "source": [
    "def play_many_games(env, N=50000):\n",
    "    \n",
    "    Q = intialize_Q(env)\n",
    "    \n",
    "    length = []\n",
    "    reward_total = []\n",
    "    \n",
    "    for n in range(N):\n",
    "        \n",
    "        eps = 1.0 / np.sqrt(n + 1) # take random action less over time\n",
    "        \n",
    "        if n % 2 == 0:\n",
    "            learner = 'X'\n",
    "        else:\n",
    "            learner = 'O'\n",
    "        \n",
    "        episode_reward, episode_length = play_one_game(env, Q, eps, False, learner)\n",
    "        \n",
    "        if n % 1000 == 0:\n",
    "            print('L:{}, X:{:2f}'.format(episode_length, episode_reward))\n",
    "            \n",
    "        length.append(episode_length)\n",
    "        reward_total.append(episode_reward)\n",
    "\n",
    "        \n",
    "#     env1 = wrappers.Monitor(env, 'MovieFiles', force=True)\n",
    "#     observation = env1.reset()\n",
    "#     play_one_game(env1, Q, eps, True)\n",
    "        \n",
    "    return length, reward_total, Q"
   ]
  },
  {
   "cell_type": "code",
   "execution_count": 9,
   "metadata": {
    "collapsed": true
   },
   "outputs": [],
   "source": [
    "def plot_running_avg(total_rewards, run_size):\n",
    "    \n",
    "    N = len(total_rewards)\n",
    "    \n",
    "    running_avg = np.empty(N)\n",
    "    \n",
    "    for t in range(N):\n",
    "        \n",
    "        running_avg[t] = np.mean(total_rewards[max(0,t-run_size) : (t+1)])\n",
    "        \n",
    "    plt.plot(running_avg)\n",
    "    plt.title('Running Average')\n",
    "    plt.show()"
   ]
  },
  {
   "cell_type": "code",
   "execution_count": 10,
   "metadata": {},
   "outputs": [
    {
     "name": "stdout",
     "output_type": "stream",
     "text": [
      "L:3, X:-1000.000000\n",
      "L:4, X:1000.000000\n",
      "L:5, X:-1000.000000\n",
      "L:5, X:0.000000\n",
      "L:5, X:0.000000\n",
      "L:5, X:0.000000\n",
      "L:5, X:0.000000\n",
      "L:4, X:1000.000000\n",
      "L:5, X:0.000000\n",
      "L:4, X:1000.000000\n",
      "L:4, X:1000.000000\n",
      "L:4, X:-1000.000000\n",
      "L:5, X:0.000000\n",
      "L:5, X:0.000000\n",
      "L:5, X:0.000000\n",
      "L:4, X:1000.000000\n",
      "L:5, X:0.000000\n",
      "L:5, X:0.000000\n",
      "L:5, X:0.000000\n",
      "L:5, X:0.000000\n",
      "L:4, X:1000.000000\n",
      "L:4, X:1000.000000\n",
      "L:4, X:1000.000000\n",
      "L:5, X:0.000000\n",
      "L:5, X:0.000000\n",
      "L:5, X:0.000000\n",
      "L:5, X:0.000000\n",
      "L:4, X:1000.000000\n",
      "L:4, X:1000.000000\n",
      "L:5, X:0.000000\n",
      "L:5, X:0.000000\n",
      "L:5, X:0.000000\n",
      "L:4, X:1000.000000\n",
      "L:5, X:-1000.000000\n",
      "L:4, X:1000.000000\n",
      "L:4, X:1000.000000\n",
      "L:4, X:1000.000000\n",
      "L:4, X:1000.000000\n",
      "L:4, X:1000.000000\n",
      "L:4, X:1000.000000\n",
      "L:4, X:1000.000000\n",
      "L:5, X:0.000000\n",
      "L:4, X:1000.000000\n",
      "L:4, X:1000.000000\n",
      "L:5, X:0.000000\n",
      "L:5, X:0.000000\n",
      "L:5, X:0.000000\n",
      "L:4, X:1000.000000\n",
      "L:4, X:1000.000000\n",
      "L:4, X:1000.000000\n"
     ]
    },
    {
     "data": {
      "image/png": "[encoded data removed]",
      "text/plain": [
       "<matplotlib.figure.Figure at 0x7f4a30934048>"
      ]
     },
     "metadata": {},
     "output_type": "display_data"
    }
   ],
   "source": [
    "env = gym.make('tictactoe-v0')\n",
    "length, reward_total, Q = play_many_games(env)\n",
    "plot_running_avg(reward_total, 100)"
   ]
  },
  {
   "cell_type": "code",
   "execution_count": 12,
   "metadata": {
    "scrolled": true
   },
   "outputs": [
    {
     "name": "stdout",
     "output_type": "stream",
     "text": [
      "[' ' ' ' ' ']\n",
      "[' ' 'X' ' ']\n",
      "[' ' ' ' ' ']\n",
      "\n",
      "['O' ' ' ' ']\n",
      "[' ' 'X' 'X']\n",
      "[' ' ' ' ' ']\n",
      "\n",
      "['O' ' ' ' ']\n",
      "['O' 'X' 'X']\n",
      "['X' ' ' ' ']\n",
      "\n",
      "['O' 'X' 'O']\n",
      "['O' 'X' 'X']\n",
      "['X' ' ' ' ']\n",
      "\n",
      "['O' 'X' 'O']\n",
      "['O' 'X' 'X']\n",
      "['X' 'O' 'X']\n"
     ]
    },
    {
     "data": {
      "text/plain": [
       "(0, 4)"
      ]
     },
     "execution_count": 12,
     "metadata": {},
     "output_type": "execute_result"
    }
   ],
   "source": [
    "play_one_game(env, Q, eps = 0.0, render = True, learner = 'O')"
   ]
  }
 ],
 "metadata": {
  "kernelspec": {
   "display_name": "Python [conda env:tf-source-keras-gym]",
   "language": "python",
   "name": "conda-env-tf-source-keras-gym-py"
  },
  "language_info": {
   "codemirror_mode": {
    "name": "ipython",
    "version": 3
   },
   "file_extension": ".py",
   "mimetype": "text/x-python",
   "name": "python",
   "nbconvert_exporter": "python",
   "pygments_lexer": "ipython3",
   "version": "3.6.4"
  }
 },
 "nbformat": 4,
 "nbformat_minor": 2
}
